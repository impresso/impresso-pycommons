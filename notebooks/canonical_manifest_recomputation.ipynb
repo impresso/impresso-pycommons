{
 "cells": [
  {
   "cell_type": "markdown",
   "metadata": {},
   "source": [
    "# Canonical manifest recomputation"
   ]
  },
  {
   "cell_type": "code",
   "execution_count": null,
   "metadata": {},
   "outputs": [],
   "source": [
    "import os\n",
    "import shutil\n",
    "import json\n",
    "import boto3\n",
    "import pandas as pd\n",
    "import git\n",
    "from dask import bag as db\n",
    "from dask import dataframe as dd\n",
    "import numpy as np\n",
    "from pathlib import Path\n",
    "from time import strftime\n",
    "import copy\n",
    "from typing import Any\n",
    "\n",
    "from impresso_commons.utils.s3 import (fixed_s3fs_glob, alternative_read_text, upload,\n",
    "                                       get_storage_options, get_boto3_bucket, IMPRESSO_STORAGEOPT, upload_to_s3)\n",
    "from impresso_commons.versioning.helpers import (DataStage, read_manifest_from_s3, \n",
    "                                                 validate_stage, clone_git_repo,\n",
    "                                                 write_and_push_to_git, write_dump_to_fs)\n",
    "from impresso_commons.path import parse_canonical_filename\n",
    "from impresso_commons.path.path_fs import IssueDir\n",
    "from impresso_commons.path.path_s3 import read_s3_issues, list_newspapers, fetch_files\n",
    "from impresso_commons.versioning.data_statistics import NewspaperStatistics, POSSIBLE_GRANULARITIES\n",
    "from impresso_commons.versioning.data_manifest import DataManifest\n",
    "from collections import defaultdict"
   ]
  },
  {
   "cell_type": "markdown",
   "metadata": {},
   "source": [
    "## Functions"
   ]
  },
  {
   "cell_type": "code",
   "execution_count": null,
   "metadata": {},
   "outputs": [],
   "source": [
    "def compute_canonical_stats_for_manifest(\n",
    "    s3_canonical_issues: db.core.Bag,\n",
    ") -> list[dict[str, Any]]:\n",
    "    \"\"\"Computes number of issues and pages per newspaper from canonical data in s3.\n",
    "\n",
    "    :param str s3_canonical_bucket: S3 bucket with canonical data.\n",
    "    :return: A pandas DataFrame with newspaper ID as the index and columns `n_issues`, `n_pages`.\n",
    "    :rtype: pd.DataFrame\n",
    "\n",
    "    \"\"\"\n",
    "\n",
    "    print(\"Fetched all issues, gathering desired information.\")\n",
    "    pages_count_df = (\n",
    "        s3_canonical_issues.map(\n",
    "            lambda i: {\n",
    "                \"np_id\": i[\"id\"].split(\"-\")[0],\n",
    "                \"year\": i[\"id\"].split(\"-\")[1],\n",
    "                \"id\": i[\"id\"],\n",
    "                \"issue_id\": i[\"id\"],\n",
    "                \"n_pages\": len(set(i[\"pp\"])),\n",
    "                \"n_content_items\": len(i[\"i\"]),\n",
    "                \"n_images\": len(\n",
    "                    [item for item in i[\"i\"] if item[\"m\"][\"tp\"] == \"image\"]\n",
    "                ),\n",
    "            }\n",
    "        )\n",
    "        .to_dataframe(\n",
    "            meta={\n",
    "                \"np_id\": str,\n",
    "                \"year\": str,\n",
    "                \"id\": str,\n",
    "                \"issue_id\": str,\n",
    "                \"n_pages\": int,\n",
    "                \"n_images\": int,\n",
    "                \"n_content_items\": int,\n",
    "            }\n",
    "        )\n",
    "        .set_index(\"id\")\n",
    "        .persist()\n",
    "    )\n",
    "\n",
    "    # cum the counts for all values collected\n",
    "    aggregated_df = (\n",
    "        pages_count_df.groupby(by=[\"np_id\", \"year\"])\n",
    "        .agg(\n",
    "            {\n",
    "                \"n_pages\": sum,\n",
    "                \"issue_id\": \"count\",\n",
    "                \"n_content_items\": sum,\n",
    "                \"n_images\": sum,\n",
    "            }\n",
    "        )\n",
    "        .rename(\n",
    "            columns={\n",
    "                \"issue_id\": \"issues\",\n",
    "                \"n_pages\": \"pages\",\n",
    "                \"n_content_items\": \"content_items_out\",\n",
    "                \"n_images\": \"images\",\n",
    "            }\n",
    "        )\n",
    "        .reset_index()\n",
    "    )\n",
    "\n",
    "    print(\"Finished grouping and aggregating by title and year.\")\n",
    "    # return as a list of dicts\n",
    "    return aggregated_df.to_bag(format=\"dict\").compute()\n",
    "\n"
   ]
  },
  {
   "cell_type": "markdown",
   "metadata": {},
   "source": [
    "## Code"
   ]
  },
  {
   "cell_type": "markdown",
   "metadata": {},
   "source": [
    "### BNF \n",
    "\n",
    "Recomputing the manifest after the BNF data update, since it was not updated correctly."
   ]
  },
  {
   "cell_type": "code",
   "execution_count": null,
   "metadata": {},
   "outputs": [],
   "source": [
    "s3_bucket = 'canonical-staging'\n",
    "newspapers = ['excelsior', 'lafronde', 'marieclaire', 'oeuvre']"
   ]
  },
  {
   "cell_type": "code",
   "execution_count": null,
   "metadata": {},
   "outputs": [],
   "source": [
    "s3_bnf_issues, _= fetch_files(s3_bucket, compute=False, newspapers_filter=newspapers)"
   ]
  },
  {
   "cell_type": "code",
   "execution_count": null,
   "metadata": {},
   "outputs": [],
   "source": [
    "manifest_out_name = 'canonical_v0-1-0.json'\n",
    "\n",
    "repo = git.Repo('/home/piconti/impresso-text-acquisition')\n",
    "mft_s3_input_bucket = None # bucket corresponding to the input data of the data currently in 'rebuilt-data'\n",
    "mft_s3_output_bucket = 'canonical-staging' #'rebuilt-data' #'rebuilt-sandbox'\n",
    "# there is no previous manifest\n",
    "temp_dir = '/home/piconti/temp_canonical_v0-1-0'\n",
    "previous_manifest_path = 's3://canonical-staging/canonical_v0-0-4.json'\n",
    "\n",
    "canonical_patch_bnf = DataManifest(\n",
    "    data_stage = 'canonical', # DataStage.REBUILT also works\n",
    "    s3_output_bucket = mft_s3_output_bucket,\n",
    "    s3_input_bucket = mft_s3_input_bucket,\n",
    "    git_repo = repo,\n",
    "    temp_dir = temp_dir,\n",
    "    staging=True,\n",
    "\n",
    ")"
   ]
  },
  {
   "cell_type": "code",
   "execution_count": null,
   "metadata": {},
   "outputs": [],
   "source": [
    "bnf_stats = compute_canonical_stats_for_manifest(s3_bnf_issues)"
   ]
  },
  {
   "cell_type": "code",
   "execution_count": null,
   "metadata": {},
   "outputs": [],
   "source": [
    "bnf_stats_copy = copy.deepcopy(bnf_stats)\n",
    "\n",
    "print(\"Populating the manifest with the resulting yearly statistics...\")\n",
    "# populate the manifest with these statistics\n",
    "for stats in bnf_stats_copy:\n",
    "    title = stats['np_id']\n",
    "    year = stats['year']\n",
    "    del stats[\"np_id\"]\n",
    "    del stats[\"year\"]\n",
    "    canonical_patch_bnf.add_by_title_year(title, year, stats)\n",
    "\n",
    "print(\"Finalizing the manifest, and computing the result...\")\n",
    "\n",
    "note = f\"Ingestion of 16236 Newspaper issues into canonical format.\"\n",
    "canonical_patch_bnf.append_to_notes(note)\n",
    "canonical_patch_bnf.compute(export_to_git_and_s3 = False)"
   ]
  },
  {
   "cell_type": "code",
   "execution_count": null,
   "metadata": {},
   "outputs": [],
   "source": [
    "canonical_patch_bnf.manifest_data"
   ]
  },
  {
   "cell_type": "code",
   "execution_count": null,
   "metadata": {},
   "outputs": [],
   "source": [
    "updated_manifest_path = '/home/piconti/impresso-data-release/data-processing-versioning/data-preparation/canonical_v0-1-0.json'"
   ]
  },
  {
   "cell_type": "code",
   "execution_count": null,
   "metadata": {},
   "outputs": [],
   "source": [
    "mft_filename = os.path.join('canonical-staging', 'canonical_v0-1-0.json')"
   ]
  },
  {
   "cell_type": "code",
   "execution_count": null,
   "metadata": {},
   "outputs": [],
   "source": [
    "upload_to_s3(updated_manifest_path, 'canonical_v0-1-0.json', 'canonical-staging')"
   ]
  },
  {
   "cell_type": "markdown",
   "metadata": {},
   "source": [
    "### BNL\n",
    "\n",
    "The first ingestion for BNL stopped before the end, so the manifest was not generated. \n",
    "Since several newspapers had been entirely ingested, the manifest is computed retroactively on the data. "
   ]
  },
  {
   "cell_type": "code",
   "execution_count": null,
   "metadata": {},
   "outputs": [],
   "source": [
    "s3_bucket = 'canonical-staging'\n",
    "bnl_newspapers = ['actionfem', 'armeteufel', 'avenirgdl', 'buergerbeamten', 'courriergdl', 'gazgrdlux', 'landwortbild', 'luxwort', 'schmiede']\n",
    "\n",
    "luxwort_excluded_years = [\"1860\",\"1908\",\"1910\",\"1935\",\"1936\",\"1937\",\"1938\",\"1939\",\"1940\",\"1941\",\"1942\",\"1943\",\"1944\",\"1945\",\"1946\",\"1947\",\"1948\",\"1949\",\"1950\"]\n",
    "actionfem_excluded_years = [\"1935\", \"1936\", \"1937\", \"1938\", \"1939\", \"1940\"]"
   ]
  },
  {
   "cell_type": "code",
   "execution_count": null,
   "metadata": {},
   "outputs": [],
   "source": [
    "s3_bnl_issues, _= fetch_files(s3_bucket, compute=False, newspapers_filter=bnl_newspapers)"
   ]
  },
  {
   "cell_type": "code",
   "execution_count": null,
   "metadata": {},
   "outputs": [],
   "source": [
    "bnl_stats = compute_canonical_stats_for_manifest(s3_bnl_issues)"
   ]
  },
  {
   "cell_type": "code",
   "execution_count": null,
   "metadata": {},
   "outputs": [],
   "source": [
    "manifest_out_name = 'canonical_v0-3-0.json'\n",
    "\n",
    "repo = git.Repo('/home/piconti/impresso-text-acquisition')\n",
    "mft_s3_input_bucket = None # bucket corresponding to the input data of the data currently in 'rebuilt-data'\n",
    "mft_s3_output_bucket = 'canonical-staging' #'rebuilt-data' #'rebuilt-sandbox'\n",
    "# there is no previous manifest\n",
    "temp_dir = '/home/piconti/temp_canonical_v0-3-0'\n",
    "previous_manifest_path = 's3://canonical-staging/canonical_v0-2-0.json'\n",
    "\n",
    "canonical_patch_bnl = DataManifest(\n",
    "    data_stage = 'canonical', # DataStage.CANONICAL also works\n",
    "    s3_output_bucket = mft_s3_output_bucket,\n",
    "    s3_input_bucket = mft_s3_input_bucket,\n",
    "    git_repo = repo,\n",
    "    temp_dir = temp_dir,\n",
    "    staging=True,\n",
    ")"
   ]
  },
  {
   "cell_type": "code",
   "execution_count": null,
   "metadata": {},
   "outputs": [],
   "source": [
    "bnl_stats_copy = copy.deepcopy(bnl_stats)\n",
    "\n",
    "print(\"Populating the manifest with the resulting yearly statistics...\")\n",
    "# populate the manifest with these statistics\n",
    "for stats in bnl_stats_copy:\n",
    "    title = stats['np_id']\n",
    "    year = stats['year']\n",
    "    if title == 'luxwort':\n",
    "        if year in luxwort_excluded_years:\n",
    "            print(f\"Skipping year {year} for luxwort.\")\n",
    "            continue\n",
    "    if title == 'actionfem':\n",
    "        if year in actionfem_excluded_years:\n",
    "            print(f\"Skipping year {year} for luxwort.\")\n",
    "            continue\n",
    "    title = stats['np_id']\n",
    "    year = stats['year']\n",
    "    del stats[\"np_id\"]\n",
    "    del stats[\"year\"]\n",
    "    print(f\"Addind the stats for {title} {year}.\")\n",
    "    canonical_patch_bnl.add_by_title_year(title, year, stats)"
   ]
  },
  {
   "cell_type": "code",
   "execution_count": null,
   "metadata": {},
   "outputs": [],
   "source": [
    "print(\"Finalizing the manifest, and computing the result...\")\n",
    "\n",
    "note = f\"Ingestion of Newspaper issues into canonical format for titles {bnl_newspapers}.\"\n",
    "canonical_patch_bnl.append_to_notes(note)\n",
    "canonical_patch_bnl.compute(export_to_git_and_s3 = True)"
   ]
  },
  {
   "cell_type": "code",
   "execution_count": null,
   "metadata": {},
   "outputs": [],
   "source": [
    "canonical_patch_bnl.manifest_data"
   ]
  },
  {
   "cell_type": "markdown",
   "metadata": {},
   "source": [
    "### BNL - Second run"
   ]
  },
  {
   "cell_type": "code",
   "execution_count": null,
   "metadata": {},
   "outputs": [],
   "source": [
    "s3_bucket = 'canonical-staging'\n",
    "bnl_newspapers_2 = ['deletz1893', 'diekwochen', 'kommmit', 'indeplux', 'kommmit', 'lunion', 'luxzeit1858', 'luxwort']\n",
    "\n",
    "luxwort_included_years = [\"1860\",\"1908\",\"1910\"]\n",
    "indeplux_excluded_first_year = 1919"
   ]
  },
  {
   "cell_type": "code",
   "execution_count": null,
   "metadata": {},
   "outputs": [],
   "source": [
    "s3_bnl_issues_2, _= fetch_files(s3_bucket, compute=False, newspapers_filter=bnl_newspapers_2)\n",
    "#bnl_stats = compute_canonical_stats_for_manifest(s3_bnl_issues_2)"
   ]
  },
  {
   "cell_type": "code",
   "execution_count": null,
   "metadata": {},
   "outputs": [],
   "source": [
    "bnl_stats = compute_canonical_stats_for_manifest(s3_bnl_issues_2)"
   ]
  },
  {
   "cell_type": "code",
   "execution_count": null,
   "metadata": {},
   "outputs": [],
   "source": [
    "manifest_out_name = 'canonical_v0-4-0.json'\n",
    "\n",
    "repo = git.Repo('/home/piconti/impresso-text-acquisition')\n",
    "mft_s3_input_bucket = None # bucket corresponding to the input data of the data currently in 'rebuilt-data'\n",
    "mft_s3_output_bucket = 'canonical-staging' #'rebuilt-data' #'rebuilt-sandbox'\n",
    "# there is no previous manifest\n",
    "temp_dir = '/home/piconti/temp_canonical_v0-4-0'\n",
    "previous_manifest_path = 's3://canonical-staging/canonical_v0-3-0.json'\n",
    "\n",
    "canonical_patch_bnl_2 = DataManifest(\n",
    "    data_stage = 'canonical', # DataStage.CANONICAL also works\n",
    "    s3_output_bucket = mft_s3_output_bucket,\n",
    "    s3_input_bucket = mft_s3_input_bucket,\n",
    "    git_repo = repo,\n",
    "    temp_dir = temp_dir,\n",
    "    staging=True,\n",
    ")"
   ]
  },
  {
   "cell_type": "code",
   "execution_count": null,
   "metadata": {},
   "outputs": [],
   "source": [
    "bnl_stats_copy = copy.deepcopy(bnl_stats)\n",
    "\n",
    "print(\"Populating the manifest with the resulting yearly statistics...\")\n",
    "# populate the manifest with these statistics\n",
    "for stats in bnl_stats_copy:\n",
    "    title = stats['np_id']\n",
    "    year = stats['year']\n",
    "    if title == 'luxwort':\n",
    "        if year not in luxwort_included_years:\n",
    "            print(f\"Skipping year {year} for luxwort.\")\n",
    "            continue\n",
    "    if title == 'indeplux':\n",
    "        if int(year) > indeplux_excluded_first_year:\n",
    "            print(f\"Skipping year {year} for luxwort.\")\n",
    "            continue\n",
    "    title = stats['np_id']\n",
    "    year = stats['year']\n",
    "    del stats[\"np_id\"]\n",
    "    del stats[\"year\"]\n",
    "    print(f\"Addind the stats for {title} {year}.\")\n",
    "    canonical_patch_bnl_2.add_by_title_year(title, year, stats)"
   ]
  },
  {
   "cell_type": "code",
   "execution_count": null,
   "metadata": {},
   "outputs": [],
   "source": [
    "print(\"Finalizing the manifest, and computing the result...\")\n",
    "\n",
    "note = f\"Ingestion of Newspaper issues into canonical format for titles {bnl_newspapers_2}.\"\n",
    "canonical_patch_bnl_2.append_to_notes(note)\n",
    "canonical_patch_bnl_2.compute(export_to_git_and_s3 = True)"
   ]
  },
  {
   "cell_type": "code",
   "execution_count": null,
   "metadata": {},
   "outputs": [],
   "source": [
    "canonical_patch_bnl_2.manifest_data"
   ]
  },
  {
   "cell_type": "markdown",
   "metadata": {},
   "source": [
    "## BNL 3rd Run"
   ]
  },
  {
   "cell_type": "code",
   "execution_count": null,
   "metadata": {},
   "outputs": [],
   "source": [
    "s3_bucket = 'canonical-staging'\n",
    "bnl_newspapers_3 = ['actionfem', 'onsjongen', 'demitock', 'luxzeit1844', \n",
    "                    'dunioun', 'obermosel', 'luxembourg1935', 'volkfreu1869',\n",
    "                    'waechtersauer', 'waeschfra', 'luxwort', 'luxland', 'tageblatt']\n",
    "\n",
    "luxwort_included_years = [\"1935\", \"1936\", \"1937\", \"1938\", \"1939\", \"1940\", \"1941\", \"1942\", \"1943\", \"1944\"] #, \"1945\", \"1946\", \"1947\", \"1948\", \"1949\", \"1950\"]\n",
    "luxland_max_year = 1964\n",
    "actionfem_min_year = 1935\n",
    "dunioun_max_year = 1944\n",
    "obermosel_max_year = 1944\n",
    "onsjongen_max_year = 1947\n",
    "tageblatt_max_year = 1946"
   ]
  },
  {
   "cell_type": "code",
   "execution_count": null,
   "metadata": {},
   "outputs": [],
   "source": [
    "s3_bnl_issues_3, _= fetch_files(s3_bucket, compute=False, newspapers_filter=bnl_newspapers_3)\n",
    "bnl_stats_3 = compute_canonical_stats_for_manifest(s3_bnl_issues_3)"
   ]
  },
  {
   "cell_type": "code",
   "execution_count": null,
   "metadata": {},
   "outputs": [],
   "source": [
    "manifest_out_name = 'canonical_v0-5-0.json'\n",
    "\n",
    "repo = git.Repo('/home/piconti/impresso-text-acquisition')\n",
    "mft_s3_input_bucket = None # bucket corresponding to the input data of the data currently in 'rebuilt-data'\n",
    "mft_s3_output_bucket = 'canonical-staging' #'rebuilt-data' #'rebuilt-sandbox'\n",
    "# there is no previous manifest\n",
    "temp_dir = '/home/piconti/temp_canonical_v0-5-0'\n",
    "previous_manifest_path = 's3://canonical-staging/canonical_v0-4-0.json'\n",
    "\n",
    "canonical_patch_bnl_3 = DataManifest(\n",
    "    data_stage = 'canonical', # DataStage.CANONICAL also works\n",
    "    s3_output_bucket = mft_s3_output_bucket,\n",
    "    s3_input_bucket = mft_s3_input_bucket,\n",
    "    git_repo = repo,\n",
    "    temp_dir = temp_dir,\n",
    "    staging=True,\n",
    ")"
   ]
  },
  {
   "cell_type": "code",
   "execution_count": null,
   "metadata": {},
   "outputs": [],
   "source": [
    "luxland_max_year = 1964\n",
    "actionfem_min_year = 1935\n",
    "dunioun_max_year = 1944\n",
    "obermosel_max_year = 1944\n",
    "onsjongen_max_year = 1947\n",
    "tageblatt_max_year = 1946"
   ]
  },
  {
   "cell_type": "code",
   "execution_count": null,
   "metadata": {},
   "outputs": [],
   "source": [
    "bnl_stats_copy = copy.deepcopy(bnl_stats_3)\n",
    "\n",
    "print(\"Populating the manifest with the resulting yearly statistics...\")\n",
    "# populate the manifest with these statistics\n",
    "for stats in bnl_stats_copy:\n",
    "    title = stats['np_id']\n",
    "    year = stats['year']\n",
    "    if title == 'luxwort':\n",
    "        if year not in luxwort_included_years:\n",
    "            print(f\"Skipping year {year} for luxwort.\")\n",
    "            continue\n",
    "    if title == 'luxland':\n",
    "        if int(year) > luxland_max_year:\n",
    "            print(f\"Skipping year {year} for luxland.\")\n",
    "            continue\n",
    "    if title == 'dunioun':\n",
    "        if int(year) > dunioun_max_year:\n",
    "            print(f\"Skipping year {year} for luxland.\")\n",
    "            continue\n",
    "    if title == 'obermosel':\n",
    "        if int(year) > obermosel_max_year:\n",
    "            print(f\"Skipping year {year} for luxland.\")\n",
    "            continue\n",
    "    if title == 'onsjongen':\n",
    "        if int(year) > onsjongen_max_year:\n",
    "            print(f\"Skipping year {year} for luxland.\")\n",
    "            continue\n",
    "    if title == 'tageblatt':\n",
    "        if int(year) > tageblatt_max_year:\n",
    "            print(f\"Skipping year {year} for luxland.\")\n",
    "            continue\n",
    "    if title == 'actionfem':\n",
    "        if int(year) < actionfem_min_year:\n",
    "            print(f\"Skipping year {year} for actionfem.\")\n",
    "            continue\n",
    "    title = stats['np_id']\n",
    "    year = stats['year']\n",
    "    del stats[\"np_id\"]\n",
    "    del stats[\"year\"]\n",
    "    print(f\"Addind the stats for {title} {year}.\")\n",
    "    canonical_patch_bnl_3.add_by_title_year(title, year, stats)"
   ]
  },
  {
   "cell_type": "code",
   "execution_count": null,
   "metadata": {},
   "outputs": [],
   "source": [
    "print(\"Finalizing the manifest, and computing the result...\")\n",
    "\n",
    "note = f\"Ingestion of Newspaper issues into canonical format for titles {bnl_newspapers_3}.\"\n",
    "canonical_patch_bnl_3.append_to_notes(note)\n",
    "canonical_patch_bnl_3.compute(export_to_git_and_s3 = True)"
   ]
  },
  {
   "cell_type": "code",
   "execution_count": null,
   "metadata": {},
   "outputs": [],
   "source": [
    "canonical_patch_bnl_3.manifest_data"
   ]
  },
  {
   "cell_type": "code",
   "execution_count": null,
   "metadata": {},
   "outputs": [],
   "source": []
  }
 ],
 "metadata": {
  "kernelspec": {
   "display_name": "patches",
   "language": "python",
   "name": "python3"
  },
  "language_info": {
   "codemirror_mode": {
    "name": "ipython",
    "version": 3
   },
   "file_extension": ".py",
   "mimetype": "text/x-python",
   "name": "python",
   "nbconvert_exporter": "python",
   "pygments_lexer": "ipython3",
   "version": "3.11.0"
  }
 },
 "nbformat": 4,
 "nbformat_minor": 2
}
